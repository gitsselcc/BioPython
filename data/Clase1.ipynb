{
 "cells": [
  {
   "cell_type": "markdown",
   "id": "300fc4ea",
   "metadata": {},
   "source": [
    "Tenemos un perro"
   ]
  },
  {
   "cell_type": "code",
   "execution_count": null,
   "id": "3484845e",
   "metadata": {},
   "outputs": [],
   "source": [
    "class mamifero():\n",
    "    #Atributos de clase\n",
    "    vertebrado: True\n",
    "    amamanta: True\n",
    "    "
   ]
  },
  {
   "cell_type": "code",
   "execution_count": null,
   "id": "bce4124c",
   "metadata": {},
   "outputs": [],
   "source": [
    "\n",
    "from random import choice, seed\n",
    "\n",
    "\n",
    "class mamifero(): \n",
    "    # Atributos de clase\n",
    "    vertebrado = True\n",
    "    amamanta = True\n",
    "        \n",
    "    # Atributos de instancia\n",
    "    alimentacion:  '' # Carnivoro, omnívoro, etc\n",
    "    altura: None\n",
    "    peso: None\n",
    "    progenie: 0\n",
    "\n",
    "perro = mamifero()\n",
    "perro.vertebrado\n",
    "\n",
    "#Valores a nuestro objeto perro\n",
    "perro.alimentacion = 'omnivoro'\n",
    "perro.altura = 43\n",
    "perro.peso = 6.1\n",
    "perro.progenie=0\n",
    "print(\"El tipo de alimentación de nuestro perro es: \", perro.alimentacion, \"mide\",perro.altura,\"pesa\",perro.peso, \"su descendencia asciende a\",perro.progenie)\n",
    "\n",
    "\n"
   ]
  },
  {
   "cell_type": "code",
   "execution_count": 15,
   "id": "2a096e17",
   "metadata": {},
   "outputs": [
    {
     "name": "stdout",
     "output_type": "stream",
     "text": [
      "El tipo de alimentación de nuestro perro es:  omnívoro , mide 43 cms, pesa 6.1 kg y su descendencia asciende a 3\n"
     ]
    }
   ],
   "source": [
    "from random import choice, seed\n",
    "\n",
    "\n",
    "class mamifero(): \n",
    "    # Atributos de clase\n",
    "    vertebrado = True\n",
    "    amamanta = True\n",
    "\n",
    "\n",
    "    def __init__(self, alimentacion, altura, peso, progenie=0):\n",
    "        # Atributos de instancia\n",
    "        self.alimentacion = alimentacion   # carnívoro, omnívoro, etc.\n",
    "        self.altura = altura #cm\n",
    "        self.peso = peso #kg\n",
    "        self.progenie = progenie \n",
    "\n",
    "    # Cuántos puede tener y cuántos van a sobrevivir    \n",
    "    def reproducirse(self, max_progenie):\n",
    "        self.progenie +=  choice(range( max_progenie))\n",
    "    \n",
    "    def crecer(self, crecimiento):\n",
    "        self.altura += crecimiento\n",
    "        self.peso += crecimiento * 0.4\n",
    "\n",
    "#Y provemos nuestros metódos:\n",
    "perro=mamifero(\"omnívoro\", 43, 6.1)\n",
    "perro.reproducirse(6)\n",
    "print(\"El tipo de alimentación de nuestro perro es: \", perro.alimentacion, \", mide\",\n",
    "      perro.altura,\"cms, pesa\",perro.peso, \"kg y su descendencia asciende a\",perro.progenie)\n",
    "\n"
   ]
  },
  {
   "cell_type": "markdown",
   "id": "f618c8a0",
   "metadata": {},
   "source": [
    "Generar la clase gen con minimo 3 atributos y 3 metodos.\n",
    "\n",
    "\n",
    "\n",
    "\n",
    "Un gen necesita: nombre, ubicacion, secuencia\n",
    "\n",
    "\n",
    "A partir de la secuencia contare cuantas bases de C, T, A  y G tiene y calculare el porcentaje de CG\n",
    "\n",
    "Un metodo que podria darle es a partir de la secuencia. Doy la secuencia y de la secuencia pido el contenido de GC y cuento el numero de bases\n",
    "\n",
    "\n",
    "Un gen puede: Transcribirse, Regular, Contener informacion\n"
   ]
  },
  {
   "cell_type": "code",
   "execution_count": 43,
   "id": "e134846a",
   "metadata": {},
   "outputs": [
    {
     "name": "stdout",
     "output_type": "stream",
     "text": [
      "Nuestro gen se llama susano se ubica en higado y su secuencia es AAAAAACGCGCGCGCGCGCGCTTTTT\n",
      "Cantidad de T: 5\n",
      "Longitud de la secuencia: 26\n",
      "El porcentaje de GC en nuestra secuencia es de 57.692307692307686\n",
      "La secuencia reversa es TTTTTCGCGCGCGCGCGCGCAAAAAA\n"
     ]
    }
   ],
   "source": [
    "class gene():\n",
    "     def __init__(self,nombre,ubicacion,secuencia):\n",
    "          self.nombre= nombre\n",
    "          self.ubicacion= ubicacion\n",
    "          self.secuencia= secuencia.upper()\n",
    "     def cant_t(self):\n",
    "          return self.secuencia.count(\"T\")\n",
    "     def longitud(self):\n",
    "          return len(self.secuencia)\n",
    "     def GC_porcentaje(self):\n",
    "          gc= self.secuencia.count('G') + self.secuencia.count('C')\n",
    "          return  (gc / len(self.secuencia)) * 100\n",
    "     def secuencia_reversa (self):\n",
    "          return self.secuencia[::-1]\n",
    "     \n",
    "hola=gene(\"susano\",\"higado\",\"aaaaaaCGCGCGCGCGCGCGCTTTTT\")\n",
    "print(\"Nuestro gen se llama\",hola.nombre, \"se ubica en\", hola.ubicacion, \"y su secuencia es\", hola.secuencia)\n",
    "print(\"Cantidad de T:\", hola.cant_t())\n",
    "print(\"Longitud de la secuencia:\", hola.longitud())\n",
    "print(\"El porcentaje de GC en nuestra secuencia es de\", hola.GC_porcentaje())\n",
    "print(\"La secuencia reversa es\", hola.secuencia_reversa())\n",
    "\n",
    "\n",
    "\n"
   ]
  }
 ],
 "metadata": {
  "kernelspec": {
   "display_name": "Python 3",
   "language": "python",
   "name": "python3"
  },
  "language_info": {
   "codemirror_mode": {
    "name": "ipython",
    "version": 3
   },
   "file_extension": ".py",
   "mimetype": "text/x-python",
   "name": "python",
   "nbconvert_exporter": "python",
   "pygments_lexer": "ipython3",
   "version": "3.13.6"
  }
 },
 "nbformat": 4,
 "nbformat_minor": 5
}
